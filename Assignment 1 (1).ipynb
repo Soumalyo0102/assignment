{
 "cells": [
  {
   "cell_type": "code",
   "execution_count": null,
   "id": "b5d41869-f661-437d-b8b7-caa11930ffbc",
   "metadata": {},
   "outputs": [],
   "source": [
    "1) Guido Van Rossum Developed Python Programming Language"
   ]
  },
  {
   "cell_type": "code",
   "execution_count": null,
   "id": "e80e3f14-6d1d-4170-ae41-08f918c6a41b",
   "metadata": {},
   "outputs": [],
   "source": [
    "2) Object oriented programming and structured programming"
   ]
  },
  {
   "cell_type": "code",
   "execution_count": null,
   "id": "7c9b732c-5628-4253-930c-a03fc04da19b",
   "metadata": {},
   "outputs": [],
   "source": [
    "3) yes python is a case sensitive language"
   ]
  },
  {
   "cell_type": "code",
   "execution_count": null,
   "id": "736a3837-7c3e-44dd-8723-966e1b9d7c31",
   "metadata": {},
   "outputs": [],
   "source": [
    "4) .py extension"
   ]
  },
  {
   "cell_type": "code",
   "execution_count": null,
   "id": "390bce87-d6ea-42e3-91e6-b79712d7e3c6",
   "metadata": {},
   "outputs": [],
   "source": [
    "5) interpreted language"
   ]
  },
  {
   "cell_type": "code",
   "execution_count": null,
   "id": "eb3e6453-3541-4048-9eda-00d3bbf52a8a",
   "metadata": {},
   "outputs": [],
   "source": [
    "6) a module, a function body and a class defination"
   ]
  },
  {
   "cell_type": "code",
   "execution_count": null,
   "id": "e03cac36-6a41-4e27-b160-18dcca939db2",
   "metadata": {},
   "outputs": [],
   "source": [
    "7) # is used to give single line comments in python"
   ]
  },
  {
   "cell_type": "code",
   "execution_count": null,
   "id": "e014a6f8-ad29-4dd5-9e5d-ce10926480c2",
   "metadata": {},
   "outputs": [],
   "source": [
    "8) sys.version\n",
    "sys.version()\n",
    "sys.version(0)\n",
    "sys.version(1)\n"
   ]
  },
  {
   "cell_type": "code",
   "execution_count": null,
   "id": "036eb257-4048-4ec3-9ea7-c77985529319",
   "metadata": {},
   "outputs": [],
   "source": [
    "9) lambda"
   ]
  },
  {
   "cell_type": "code",
   "execution_count": null,
   "id": "31274618-e483-4b90-950c-ca04ad9d8d07",
   "metadata": {},
   "outputs": [],
   "source": [
    "10) Preffered installer program"
   ]
  },
  {
   "cell_type": "code",
   "execution_count": null,
   "id": "72e1b862-1dfa-4a8b-99a3-f6933d369c04",
   "metadata": {},
   "outputs": [],
   "source": [
    "11) bytes()\n",
    "callable()\n",
    "chr()\n",
    "class method()"
   ]
  },
  {
   "cell_type": "code",
   "execution_count": null,
   "id": "f5a67868-cb2d-4eef-bceb-5e3b93018f16",
   "metadata": {},
   "outputs": [],
   "source": [
    "12) 79 characters"
   ]
  },
  {
   "cell_type": "code",
   "execution_count": null,
   "id": "d197cf23-c624-4683-90e2-9d03a4d2e8f4",
   "metadata": {},
   "outputs": [],
   "source": [
    "13) easy to learn and use \n",
    "Mature and supportive python community \n",
    "support from renowed corporate sponsors"
   ]
  },
  {
   "cell_type": "code",
   "execution_count": null,
   "id": "43c233b7-f1f6-4ce2-b0ca-f77a47b6b6a0",
   "metadata": {},
   "outputs": [],
   "source": [
    "14) it involves a private heap containing all python objects and data structures "
   ]
  },
  {
   "cell_type": "code",
   "execution_count": null,
   "id": "3fbb443b-9594-4d2b-8b51-6f5c686e2fef",
   "metadata": {},
   "outputs": [],
   "source": [
    "15)Right-clicking This PC and going to Properties.\n",
    "\n",
    "Clicking on the Advanced system settings in the menu on the left.\n",
    "\n",
    "Clicking on the Environment Variables button o​n the bottom right.\n",
    "\n",
    "In the System variables section, selecting the Path variable and clicking on Edit. The next screen will show all the directories that are currently a part of the PATH variable.\n",
    "\n",
    "Clicking on New and entering Python’s install directory."
   ]
  },
  {
   "cell_type": "code",
   "execution_count": null,
   "id": "2193b1e7-bae3-4e17-93d7-0d17d0e39b33",
   "metadata": {},
   "outputs": [],
   "source": [
    "16) yes indentation is required in python"
   ]
  },
  {
   "cell_type": "code",
   "execution_count": null,
   "id": "d965b87b-0969-4f06-a896-77db7e0d354b",
   "metadata": {},
   "outputs": [],
   "source": []
  }
 ],
 "metadata": {
  "kernelspec": {
   "display_name": "Python 3 (ipykernel)",
   "language": "python",
   "name": "python3"
  },
  "language_info": {
   "codemirror_mode": {
    "name": "ipython",
    "version": 3
   },
   "file_extension": ".py",
   "mimetype": "text/x-python",
   "name": "python",
   "nbconvert_exporter": "python",
   "pygments_lexer": "ipython3",
   "version": "3.10.8"
  }
 },
 "nbformat": 4,
 "nbformat_minor": 5
}
