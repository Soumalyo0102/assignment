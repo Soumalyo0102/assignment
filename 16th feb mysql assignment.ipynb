{
 "cells": [
  {
   "cell_type": "code",
   "execution_count": null,
   "id": "9999f176-a97e-4fc6-84ba-b3219cf5c1b7",
   "metadata": {},
   "outputs": [],
   "source": [
    "1)A database is an organized collection of structured information, or data, typically stored electronically in a computer system.\n",
    "         SQL\tNoSQL\n",
    "RELATIONAL DATABASE MANAGEMENT SYSTEM (RDBMS)\tNon-relational or distributed database system.\n",
    "These databases have fixed or static or predefined schema\tThey have dynamic schema\n",
    "These databases are not suited for hierarchical data storage.\tThese databases are best suited for hierarchical data storage.\n",
    "These databases are best suited for complex queries\tThese databases are not so good for complex queries\n",
    "Vertically Scalable\tHorizontally scalable\n",
    "Follows ACID property\tFollows CAP(consistency, availability, partition tolerance)\n",
    "Examples: MySQL, PostgreSQL, Oracle, MS-SQL Server, etc\tExamples: MongoDB, GraphQL, HBase, Neo4j, Cassandra, etc\n"
   ]
  },
  {
   "cell_type": "code",
   "execution_count": null,
   "id": "f1051a2b-751e-4154-ae93-c715f7ff212d",
   "metadata": {},
   "outputs": [],
   "source": [
    "2)A data definition language (DDL) is a computer language used to create and modify the structure of database objects in a database.\n",
    "        CREATE TABLE\n",
    "The CREATE TABLE command creates a new table in the database.\n",
    "\n",
    "The following SQL creates a table called \"Persons\" that contains five columns: PersonID, LastName, FirstName, Address, and City:\n",
    "\n",
    "ExampleGet your own SQL Server\n",
    "CREATE TABLE Persons (\n",
    "    PersonID int,\n",
    "    LastName varchar(255),\n",
    "    FirstName varchar(255),\n",
    "    Address varchar(255),\n",
    "    City varchar(255)\n",
    ");\n",
    "CREATE TABLE Using Another Table\n",
    "A copy of an existing table can also be created using CREATE TABLE.\n",
    "\n",
    "The following SQL creates a new table called \"TestTables\" (which is a copy of the \"Customers\" table): \n",
    "\n",
    "ExampleGet your own SQL Server\n",
    "CREATE TABLE TestTable AS\n",
    "SELECT customername, contactname\n",
    "FROM customers;\n",
    "ALTER TABLE\n",
    "The ALTER TABLE command adds, deletes, or modifies columns in a table.\n",
    "\n",
    "The ALTER TABLE command also adds and deletes various constraints in a table.\n",
    "\n",
    "The following SQL adds an \"Email\" column to the \"Customers\" table:\n",
    "\n",
    "ExampleGet your own SQL Server\n",
    "ALTER TABLE Customers\n",
    "ADD Email varchar(255);\n",
    "The following SQL deletes the \"Email\" column from the \"Customers\" table:\n",
    "\n",
    "ExampleGet your own SQL Server\n",
    "ALTER TABLE Customers\n",
    "DROP COLUMN Email;\n",
    "DROP TABLE\n",
    "The DROP TABLE command deletes a table in the database.\n",
    "\n",
    "The following SQL deletes the table \"Shippers\":\n",
    "\n",
    "ExampleGet your own SQL Server\n",
    "DROP TABLE Shippers;\n",
    "Note: Be careful before deleting a table. Deleting a table results in loss of all information stored in the table!\n",
    "\n",
    "TRUNCATE TABLE\n",
    "The TRUNCATE TABLE command deletes the data inside a table, but not the table itself.\n",
    "\n",
    "The following SQL truncates the table \"Categories\": \n",
    "\n",
    "ExampleGet your own SQL Server\n",
    "TRUNCATE TABLE Categories;"
   ]
  },
  {
   "cell_type": "code",
   "execution_count": null,
   "id": "73180a04-14c1-46d6-bcbf-740796b04bba",
   "metadata": {},
   "outputs": [],
   "source": [
    "3)A data manipulation language (DML) is a family of computer languages including commands permitting users to manipulate data in a database.\n",
    "       The SQL INSERT, UPDATE, and DELETE commands enable SQL users to manipulate and modify data:\n",
    "\n",
    "The INSERT statement introduces new rows into an existing table.\n",
    "The DELETE statement removes a row or combination of rows from a table.\n",
    "The UPDATE statement enables users to update a row or group of rows in a table."
   ]
  },
  {
   "cell_type": "code",
   "execution_count": null,
   "id": "ea139ebe-774d-42ce-8cb2-1cb80b35d5a3",
   "metadata": {},
   "outputs": [],
   "source": [
    "4)DQL is a portion of a SQL statement that allows you to get and organise data from a database.\n",
    "       Select command is used to fetch the data in a set of records from a table, view or a group of tables, views by making use of SQL joins."
   ]
  },
  {
   "cell_type": "markdown",
   "id": "0c414516-8c34-4665-85d3-92df101b6ae4",
   "metadata": {
    "jp-MarkdownHeadingCollapsed": true,
    "tags": []
   },
   "source": []
  },
  {
   "cell_type": "code",
   "execution_count": null,
   "id": "f4dfcbcc-f905-4fd4-a883-82e6898acfd2",
   "metadata": {},
   "outputs": [],
   "source": [
    "5)Primary Key: A primary key is used to ensure that data in the specific column is unique. A column cannot have NULL values. It is either an existing table column or a column that is specifically generated by the database according to a defined sequence. \n",
    "\n",
    "Example: Refer the figure – \n",
    "STUD_NO, as well as STUD_PHONE both, are candidate keys for relation STUDENT but STUD_NO can be chosen as the primary key (only one out of many candidate keys). \n",
    "\n",
    "Foreign Key: \n",
    "A foreign key is a column or group of columns in a relational database table that provides a link between data in two tables. It is a column (or columns) that references a column (most often the primary key) of another table. \n",
    "\n",
    "Example: Refer the figure – \n",
    "STUD_NO in STUDENT_COURSE is a foreign key to STUD_NO in STUDENT relation. "
   ]
  },
  {
   "cell_type": "code",
   "execution_count": null,
   "id": "39695cd5-4c58-41df-b177-9724d523920a",
   "metadata": {},
   "outputs": [],
   "source": [
    "6)import mysql.connector\n",
    "\n",
    "mydb = mysql.connector.connect(\n",
    "  host=\"localhost\",\n",
    "  user=\"yourusername\",\n",
    "  password=\"yourpassword\"\n",
    ")\n",
    "\n",
    "print(mydb)\n",
    "     Allows Python code to execute PostgreSQL command in a database session. Cursors are created by the connection.cursor() method: they are bound to the connection for the entire lifetime and all the commands are executed in the context of the database session wrapped by the connection.\n",
    "    execute() Method: This method executes the given database operation (query or command)."
   ]
  }
 ],
 "metadata": {
  "kernelspec": {
   "display_name": "Python 3 (ipykernel)",
   "language": "python",
   "name": "python3"
  },
  "language_info": {
   "codemirror_mode": {
    "name": "ipython",
    "version": 3
   },
   "file_extension": ".py",
   "mimetype": "text/x-python",
   "name": "python",
   "nbconvert_exporter": "python",
   "pygments_lexer": "ipython3",
   "version": "3.10.8"
  }
 },
 "nbformat": 4,
 "nbformat_minor": 5
}
