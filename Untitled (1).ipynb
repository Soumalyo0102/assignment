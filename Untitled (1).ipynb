{
 "cells": [
  {
   "cell_type": "code",
   "execution_count": 17,
   "id": "359b0428-40ca-4be4-85c0-1b7b519eb6be",
   "metadata": {},
   "outputs": [
    {
     "name": "stdin",
     "output_type": "stream",
     "text": [
      "enter your name sun\n",
      "enter your weight in pounds :  180\n",
      "enter your height in inches :  46\n"
     ]
    },
    {
     "name": "stdout",
     "output_type": "stream",
     "text": [
      "59.801512287334596\n",
      "sun,you are morbidly obese.\n"
     ]
    }
   ],
   "source": [
    "name = input(\"enter your name\")\n",
    "weight = int(input(\"enter your weight in pounds : \"))\n",
    "height = int(input(\"enter your height in inches : \"))\n",
    "BMI = (weight*703) / (height*height)\n",
    "print(BMI)\n",
    "if BMI>0:\n",
    "    if (BMI <18.5):\n",
    "        print(name + \",you are underweight.\")\n",
    "    elif (BMI <= 24.9):\n",
    "        print(name +\",you are normalweight.\")\n",
    "    elif (BMI <29.9):\n",
    "        print(name +\",you are overweight.\") \n",
    "    elif(BMI <34.9):\n",
    "        print(name +\",you are obese.\")\n",
    "    elif(BMI <39.9):\n",
    "        print(name +\",you are severely obese.\")\n",
    "        \n",
    "        \n",
    "    else:\n",
    "        print(name +\",you are morbidly obese.\")\n",
    "else:\n",
    "        print(\"please enter valid input.\")\n",
    "        \n"
   ]
  },
  {
   "cell_type": "code",
   "execution_count": 19,
   "id": "00d8448e-ac4b-4a0f-b9d9-b59211af8c63",
   "metadata": {},
   "outputs": [
    {
     "ename": "IndentationError",
     "evalue": "unindent does not match any outer indentation level (<tokenize>, line 16)",
     "output_type": "error",
     "traceback": [
      "\u001b[0;36m  File \u001b[0;32m<tokenize>:16\u001b[0;36m\u001b[0m\n\u001b[0;31m    else:\u001b[0m\n\u001b[0m    ^\u001b[0m\n\u001b[0;31mIndentationError\u001b[0m\u001b[0;31m:\u001b[0m unindent does not match any outer indentation level\n"
     ]
    }
   ],
   "source": [
    "if BMI>0:\n",
    "    if (BMI <18.5):\n",
    "        print(name + \",you are underweight.\")\n",
    "    elif (BMI <= 24.9):\n",
    "        print(name +\",you are normalweight.\")\n",
    "    elif (BMI <29.9):\n",
    "        print(name +\",you are overweight.\") \n",
    "    elif(BMI <34.9):\n",
    "        print(name +\",you are obese.\")\n",
    "    elif(BMI <39.9):\n",
    "        print(name +\",you are severely obese.\")\n",
    "        \n",
    "        \n",
    "    else:\n",
    "        print(name +\",you are morbidly obese.\")\n",
    " else:\n",
    "        print(\"please enter valid input.\")\n",
    "        "
   ]
  },
  {
   "cell_type": "code",
   "execution_count": null,
   "id": "745d124d-f4ac-4fb3-b67b-f741e3cd95b5",
   "metadata": {},
   "outputs": [],
   "source": []
  },
  {
   "cell_type": "code",
   "execution_count": null,
   "id": "eb790a1c-f34f-4d66-949d-505334f45be6",
   "metadata": {},
   "outputs": [],
   "source": []
  }
 ],
 "metadata": {
  "kernelspec": {
   "display_name": "Python 3 (ipykernel)",
   "language": "python",
   "name": "python3"
  },
  "language_info": {
   "codemirror_mode": {
    "name": "ipython",
    "version": 3
   },
   "file_extension": ".py",
   "mimetype": "text/x-python",
   "name": "python",
   "nbconvert_exporter": "python",
   "pygments_lexer": "ipython3",
   "version": "3.10.8"
  }
 },
 "nbformat": 4,
 "nbformat_minor": 5
}
