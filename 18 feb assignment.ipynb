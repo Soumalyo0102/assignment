{
 "cells": [
  {
   "cell_type": "code",
   "execution_count": null,
   "id": "549cdd27-2005-4e1b-bef5-9b4590e4a327",
   "metadata": {},
   "outputs": [],
   "source": [
    "1) An API, or application programming interface, is a set of defined rules that enable different applications to communicate with each other.\n",
    "      example Gpay"
   ]
  },
  {
   "cell_type": "code",
   "execution_count": null,
   "id": "a78c21a0-4916-4262-919b-fbf61aad32a6",
   "metadata": {},
   "outputs": [],
   "source": [
    "2) advantages : When you have content that is automatically published and made available on different channels simultaneously, APIs allow for more efficient data distribution.\n",
    "disadvantages:What are the disadvantages of using APIs?\n",
    "Image result for give the advantages and disadvantages of using API\n",
    "API Disadvantages\n",
    "\n",
    "As a single point of entry, an API is a gateway and can become a hackers primary target. Once the API is compromised, all other applications and systems become vulnerable."
   ]
  },
  {
   "cell_type": "code",
   "execution_count": null,
   "id": "6ff5cd2d-4d65-4e4b-9a76-9beed5204ca2",
   "metadata": {},
   "outputs": [],
   "source": [
    "3)Web API as the name suggests, is an API over the web which can be accessed using HTTP protocol. It is a concept and not a technology. We can build Web API using different technologies such as Java, .NET etc. For example, Twitter's REST APIs provide programmatic access to read and write data using which we can integrate twitter's capabilities into our own application.\n",
    "      API is an interface that exposes an application's data to outside software, whereas web applications are one type of API with stricter requirements. These requirements include network communication, SOAP as the primary protocol, and less accessibility for the public."
   ]
  },
  {
   "cell_type": "code",
   "execution_count": null,
   "id": "4f56cc04-c390-4ede-a2f6-cce5b71ad2f7",
   "metadata": {},
   "outputs": [],
   "source": [
    "4) REST is a set of guidelines that offers flexible implementation, whereas SOAP is a protocol with specific requirements like XML messaging.\n",
    "    SOAP only uses XML. It doesn’t take other formats like JSON into consideration.\n",
    "There is a high possibility of coupling between client and server as SOAP is based on contract.\n",
    "Since it uses XML format, SOAP is considered to be a slow platform because the payload is large for a simple string message."
   ]
  },
  {
   "cell_type": "code",
   "execution_count": null,
   "id": "b420c1f1-426d-43de-b9f8-7e4a6f6f41d3",
   "metadata": {},
   "outputs": [],
   "source": [
    "5) SOAP stands for Simple Object Access Protocol whereas REST stands for Representational State Transfer.\n",
    "SOAP is a protocol whereas REST is an architectural pattern.\n",
    "SOAP uses service interfaces to expose its functionality to client applications while REST uses Uniform Service locators to access to the components on the hardware device.\n",
    "SOAP needs more bandwidth for its usage whereas REST doesn’t need much bandwidth.\n",
    "Comparing SOAP vs REST API, SOAP only works with XML formats whereas REST work with plain text, XML, HTML and JSON.\n",
    "SOAP cannot make use of REST whereas REST can make use of SOAP."
   ]
  }
 ],
 "metadata": {
  "kernelspec": {
   "display_name": "Python 3 (ipykernel)",
   "language": "python",
   "name": "python3"
  },
  "language_info": {
   "codemirror_mode": {
    "name": "ipython",
    "version": 3
   },
   "file_extension": ".py",
   "mimetype": "text/x-python",
   "name": "python",
   "nbconvert_exporter": "python",
   "pygments_lexer": "ipython3",
   "version": "3.10.8"
  }
 },
 "nbformat": 4,
 "nbformat_minor": 5
}
